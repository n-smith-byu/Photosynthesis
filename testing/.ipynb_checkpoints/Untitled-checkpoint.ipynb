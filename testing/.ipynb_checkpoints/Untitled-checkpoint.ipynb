{
 "cells": [
  {
   "cell_type": "code",
   "execution_count": 2,
   "id": "14bfd5bd-1783-49f5-8547-c47ccf6ef250",
   "metadata": {},
   "outputs": [],
   "source": [
    "import requests\n",
    "import json"
   ]
  },
  {
   "cell_type": "code",
   "execution_count": 5,
   "id": "f3b9c9bf-3158-4593-8694-d2327453bd4b",
   "metadata": {},
   "outputs": [],
   "source": [
    "url = 'http://localhost:8000/login'\n",
    "response = requests.post(url)"
   ]
  },
  {
   "cell_type": "code",
   "execution_count": 6,
   "id": "d4d34ff7-6440-4d47-a0f0-2f638a8c07db",
   "metadata": {},
   "outputs": [
    {
     "data": {
      "text/plain": [
       "'{\"player_key\": \"26c62f09-9b50-4550-80cd-c834eae77b15\", \"message\": \"1/2 players logged in.\"}'"
      ]
     },
     "execution_count": 6,
     "metadata": {},
     "output_type": "execute_result"
    }
   ],
   "source": [
    "json.response.content.decode('utf-8')"
   ]
  },
  {
   "cell_type": "code",
   "execution_count": 25,
   "id": "34cb84bd-c95e-4ba3-aa2e-dc292e64c32a",
   "metadata": {},
   "outputs": [],
   "source": [
    "url = 'http://localhost:8000/start'\n",
    "response = requests.post(url)"
   ]
  },
  {
   "cell_type": "code",
   "execution_count": 26,
   "id": "f9797bac-b5fe-4b70-a8eb-7ebff5111542",
   "metadata": {},
   "outputs": [
    {
     "data": {
      "text/plain": [
       "<Response [200]>"
      ]
     },
     "execution_count": 26,
     "metadata": {},
     "output_type": "execute_result"
    }
   ],
   "source": [
    "json.loads(response)"
   ]
  },
  {
   "cell_type": "code",
   "execution_count": null,
   "id": "07ba3084-1fc3-45c1-ae5e-7738b1fa6abb",
   "metadata": {},
   "outputs": [],
   "source": []
  }
 ],
 "metadata": {
  "kernelspec": {
   "display_name": "Python 3 (ipykernel)",
   "language": "python",
   "name": "python3"
  },
  "language_info": {
   "codemirror_mode": {
    "name": "ipython",
    "version": 3
   },
   "file_extension": ".py",
   "mimetype": "text/x-python",
   "name": "python",
   "nbconvert_exporter": "python",
   "pygments_lexer": "ipython3",
   "version": "3.11.6"
  }
 },
 "nbformat": 4,
 "nbformat_minor": 5
}
