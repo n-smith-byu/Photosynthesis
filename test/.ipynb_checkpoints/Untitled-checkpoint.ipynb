{
 "cells": [
  {
   "cell_type": "code",
   "execution_count": 77,
   "id": "14bfd5bd-1783-49f5-8547-c47ccf6ef250",
   "metadata": {},
   "outputs": [],
   "source": [
    "import requests\n",
    "import json"
   ]
  },
  {
   "cell_type": "code",
   "execution_count": 113,
   "id": "f3b9c9bf-3158-4593-8694-d2327453bd4b",
   "metadata": {},
   "outputs": [
    {
     "name": "stdout",
     "output_type": "stream",
     "text": [
      "{'message': 'Successfully Added Player\\n.2 players logged in. 1 humans. 1 bots.', 'player_name': 'Player_0', 'player_key': '96f00c49-79ad-4389-b439-f9099cb06149'}\n",
      "{'message': 'Successfully Added Player\\n.3 players logged in. 2 humans. 1 bots.', 'player_name': 'Player_1', 'player_key': '476ff1d9-4b93-43c7-bc75-0be14dd70403'}\n"
     ]
    }
   ],
   "source": [
    "players = []\n",
    "for i in range(2):\n",
    "    url = f'http://localhost:8000/login/Player_{i}'\n",
    "    response = requests.post(url)\n",
    "    if response.status_code >= 200 and response.status_code < 300:\n",
    "        response_json = response.content.decode('utf-8')\n",
    "        response_json = json.loads(response_json)\n",
    "        print(response_json)\n",
    "        players.append((response_json['player_key'], response_json['player_name']))\n",
    "    else:\n",
    "        print(response.reason)\n",
    "    "
   ]
  },
  {
   "cell_type": "code",
   "execution_count": 94,
   "id": "f9797bac-b5fe-4b70-a8eb-7ebff5111542",
   "metadata": {},
   "outputs": [
    {
     "data": {
      "text/plain": [
       "[('61381d89-9727-4866-8587-00423ef2a449', 'Player_0'),\n",
       " ('06102cb0-bc2e-4a2a-ab27-5cfca5c4f7f8', 'Player_1'),\n",
       " ('f21ee908-56ec-4c52-92a7-df50830d5cad', 'Player_2')]"
      ]
     },
     "execution_count": 94,
     "metadata": {},
     "output_type": "execute_result"
    }
   ],
   "source": [
    "players"
   ]
  },
  {
   "cell_type": "code",
   "execution_count": 114,
   "id": "ea79584e-28a9-4e1c-834b-f1e65a3e79fa",
   "metadata": {},
   "outputs": [
    {
     "name": "stdout",
     "output_type": "stream",
     "text": [
      "[['Player_0', '96f00c49-79ad-4389-b439-f9099cb06149'], ['Player_1', '476ff1d9-4b93-43c7-bc75-0be14dd70403'], 'Bot1']\n"
     ]
    }
   ],
   "source": [
    "url = 'http://localhost:8000/players'\n",
    "response = requests.get(url)\n",
    "if response.status_code >= 200 and response.status_code < 300:\n",
    "    response_json = response.content.decode('utf-8')\n",
    "    response_json = json.loads(response_json)\n",
    "    print(response_json)\n",
    "else:\n",
    "    print(response.reason)"
   ]
  },
  {
   "cell_type": "code",
   "execution_count": 106,
   "id": "7d4db728-fdbc-4c5e-900e-45b9b2c20180",
   "metadata": {},
   "outputs": [
    {
     "name": "stdout",
     "output_type": "stream",
     "text": [
      "{'message': 'Successfully Removed Player', 'player_name': 'Player_0', 'player_key': 'c4fdf78a-863a-4715-be28-03b2d2f104d6'}\n",
      "Successfully Removed Player\n",
      "{'message': 'Successfully Removed Player', 'player_name': 'Player_1', 'player_key': 'd0ea4a88-a50b-4e6c-89f9-ab2e95a0d60d'}\n",
      "Successfully Removed Player\n"
     ]
    }
   ],
   "source": [
    "num_to_remove = 3\n",
    "num_removed = 0\n",
    "for key, player_name in players:\n",
    "    url = f'http://localhost:8000/remove_player/{key}'\n",
    "    response = requests.post(url)\n",
    "    if response.status_code >= 200 and response.status_code < 300:\n",
    "        response_json = response.content.decode('utf-8')\n",
    "        response_json = json.loads(response_json)\n",
    "        print(response_json)\n",
    "        num_removed += 1\n",
    "\n",
    "    if num_removed == num_to_remove:\n",
    "        break\n",
    "    else:\n",
    "        print(response.reason)"
   ]
  },
  {
   "cell_type": "code",
   "execution_count": 109,
   "id": "626a15d7-9bac-4b38-93f7-2c319dfeff53",
   "metadata": {},
   "outputs": [
    {
     "name": "stdout",
     "output_type": "stream",
     "text": [
      "200\n",
      "Successfully Added Bot\n"
     ]
    }
   ],
   "source": [
    "url = 'http://localhost:8000/add_bot'\n",
    "response = requests.post(url)\n",
    "print(response.status_code)\n",
    "print(response.reason)"
   ]
  },
  {
   "cell_type": "code",
   "execution_count": 111,
   "id": "c38a8439-9d25-4d8f-a0fc-2b505241b8b4",
   "metadata": {},
   "outputs": [
    {
     "name": "stdout",
     "output_type": "stream",
     "text": [
      "200\n",
      "Successfully Removed Bot\n"
     ]
    }
   ],
   "source": [
    "url = 'http://localhost:8000/remove_bot'\n",
    "response = requests.post(url)\n",
    "print(response.status_code)\n",
    "print(response.reason)"
   ]
  },
  {
   "cell_type": "code",
   "execution_count": null,
   "id": "ba259142-1542-4907-a4bf-04aa0c4d1120",
   "metadata": {},
   "outputs": [],
   "source": []
  }
 ],
 "metadata": {
  "kernelspec": {
   "display_name": "Python 3 (ipykernel)",
   "language": "python",
   "name": "python3"
  },
  "language_info": {
   "codemirror_mode": {
    "name": "ipython",
    "version": 3
   },
   "file_extension": ".py",
   "mimetype": "text/x-python",
   "name": "python",
   "nbconvert_exporter": "python",
   "pygments_lexer": "ipython3",
   "version": "3.11.6"
  }
 },
 "nbformat": 4,
 "nbformat_minor": 5
}
